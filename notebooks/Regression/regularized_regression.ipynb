{
 "cells": [
  {
   "cell_type": "code",
   "execution_count": 4,
   "id": "eec4fac8-8f70-43c6-9e6f-237581f8af3c",
   "metadata": {},
   "outputs": [],
   "source": [
    "import numpy as np \n",
    "import matplotlib.pyplot as plt\n",
    "import seaborn as sns\n",
    "from sklearn import datasets"
   ]
  },
  {
   "cell_type": "code",
   "execution_count": 18,
   "id": "4cce89a5-3f9a-46d5-bd01-2ed3bfc65551",
   "metadata": {},
   "outputs": [
    {
     "name": "stdout",
     "output_type": "stream",
     "text": [
      "15 [[55]]\n"
     ]
    }
   ],
   "source": [
    "vector_a = np.array([1,2,3,4,5]).reshape(-1,1)\n",
    "# calculate sum of matrix\n",
    "sum_vector_a= np.sum(vector_a)\n",
    "# calculate vector_a_T * vector_a\n",
    "dot_a = np.matmul(vector_a.T, vector_a)\n",
    "\n",
    "print(sum_vector_a, dot_a)"
   ]
  },
  {
   "cell_type": "code",
   "execution_count": 2,
   "id": "d323697f-9169-4d35-9ca7-637895aa98f5",
   "metadata": {},
   "outputs": [],
   "source": [
    "def standard_scaler(X):\n",
    "    means = X.mean(0)\n",
    "    stds = X.std(0)\n",
    "    return (X-means)/stds\n",
    "\n",
    "def sign(X, first_element_zero=False):\n",
    "    signs = (-1) **(x<0)\n",
    "    if first_element_zero:\n",
    "        signs[0] = 0\n",
    "        return signs"
   ]
  },
  {
   "cell_type": "code",
   "execution_count": 3,
   "id": "d40f18d6-fbd2-4552-8492-5bd2ea34d8a5",
   "metadata": {},
   "outputs": [],
   "source": [
    "class RegularizedRegression:\n",
    "    def _record_info(self, X, y, lam,intercept,standardize):\n",
    "        # standardize feature matrix\n",
    "        if standardize == True:\n",
    "            X = standardize_scaler(X)\n",
    "        # add intercept to \n",
    "        if intercept == False:\n",
    "            ones = np.ones(len(X)).reshape(len(X),1) # column of ones\n",
    "            X = np.concatenate((ones, X), axis=1)\n",
    "        # record the values\n",
    "        self.X = np.array(X)\n",
    "        self.y = np.array(y)\n",
    "        self.N, self.D = self.X.shape\n",
    "        self.lam = lam\n",
    "\n",
    "    def fit_ridge(self, X,y, lam=0,intercept=False, standardize=True):\n",
    "        self._record_info(X,y,lam, intercept, standardize)\n",
    "        # estimate parameters\n",
    "        XtX = np.dot(self.X.T, self.X)\n",
    "        I_prime = np.eye(self.D)\n",
    "        I_prime[0,0] = 0\n",
    "        XtX_plus_lam_inverse = np.linalg.inv(XtX+ self.lam*I_prime)\n",
    "        xty =np.dot(self.X.T, self.y)\n",
    "        self_beta_hats = np.dot(XtX_plus_lam_inverse, xty)\n",
    "\n",
    "        # get the fitted values\n",
    "        self.y_hat = np.dot(self.X, self.beta_hats)\n",
    "\n",
    "    def fit_lasso(self,X,y, lam=0, n_iters=2000,lr=0.0001, intercept=False, standardize=True):\n",
    "        # record data and dimensions\n",
    "        self._record_info(X,y,lam, intercept, standardize)\n",
    "        # estimate parameters\n",
    "        beta_hat = np.random.randn(self.D)\n",
    "        for i in range(n_iters):\n",
    "            dl_dbeta = -self.X.T @(self.y - (self.X @ beta_hats)) + self.lam*sign(beta_hats,True)\n",
    "            beta_hats -= lr*dl_dbeta\n",
    "        self.beta_hats = beta_hats\n",
    "        # get fitted values\n",
    "        self.y_hat = np.dot(self.X, self.beta_hats)"
   ]
  },
  {
   "cell_type": "code",
   "execution_count": null,
   "id": "2e2703fa-2dcb-4b2e-9d31-b8ad8e1fcd39",
   "metadata": {},
   "outputs": [],
   "source": []
  }
 ],
 "metadata": {
  "kernelspec": {
   "display_name": "Python 3 (ipykernel)",
   "language": "python",
   "name": "python3"
  },
  "language_info": {
   "codemirror_mode": {
    "name": "ipython",
    "version": 3
   },
   "file_extension": ".py",
   "mimetype": "text/x-python",
   "name": "python",
   "nbconvert_exporter": "python",
   "pygments_lexer": "ipython3",
   "version": "3.11.2"
  }
 },
 "nbformat": 4,
 "nbformat_minor": 5
}
