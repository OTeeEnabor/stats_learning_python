import numpy as np
import matplotlib.pyplot as plt
import seaborn as sns 
from sklearn import datasets
from sklearn.linear_model import LinearRegression



X,y = datasets.make_regression(n_samples=100, n_features=5, noise=0.1, random_state=12)
sklearn_model = LinearRegression()
sklearn_model.fit(X,y)

sklearn_predictions = sklearn_model.predict(X)
fig, ax = plt.subplots()
sns.scatterplot(x=y,y=sklearn_predictions)
ax.set_xlabel(r'$y$', size=16)
ax.set_ylabel(r'$\hat{y}$', rotation=0, size=16, labelpad=15)
ax.set_title("True-y vs predicted y", size=20, pad=10)
sns.despine()#why

# check estimated parameters
beta_hats = sklearn_model.coef_
print("\n".join([f"beta_{i+1}: {round(beta_hats[i],2)}" for i in range(5)]))