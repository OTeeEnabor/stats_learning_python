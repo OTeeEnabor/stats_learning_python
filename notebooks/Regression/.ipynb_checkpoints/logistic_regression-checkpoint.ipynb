{
 "cells": [
  {
   "cell_type": "markdown",
   "metadata": {},
   "source": [
    "# Classification with Logistic Regression\n",
    "\n",
    "The process of predicting a qualitative response usually involves predicting the probability that an observation belongs to a certain category of a qualitative variable. This notebook focuses on classification using a **logistic regression** model.\n",
    "\n",
    "## Why Not Linear Regression?\n",
    "Linear regression is an appropriate model when the response variable is a *quantitative*. But then a curious mind would ask **\"why?\"**. \n",
    "\n",
    "1. There is not a intuitive method to convert a qualitative response variable with more than two levels to a quantitative response that can be used for linear regression.\n",
    "   \n",
    "**For Example**\n",
    "In the situation of attempting to predict a patient's medical condition in an emergency room based on symptoms, lets imagine that there are three possible diagnoses: `stroke`, `drug overdose`, and `epileptic seizure`. These diagnoses could be enconded to a quantitve response variable, $Y$, as such:\n",
    "\n",
    "\n",
    "$$ Y = \\begin{cases} \n",
    "1 & \\text{if stroke;}\\\\ \n",
    "2 & \\text{if drug overdose;}  \\\\\n",
    "3 & \\text{if epileptic seizure;}\\\\\n",
    "\\end{cases}$$\n",
    "\n",
    "The coding implies an ordering on the outcomes, is `3` the most important diagnosis? or because the difference between the quantitative encodings are the same, does that imply the difference between the diagnoses are the same? Also the ordering of the diagnoses could be changed and this would change the interpretation of the linear model's output. \n",
    "\n",
    "2. Even for two levels, linear regression cannot provide meaningful probability estimations of response variable ($Pr(Y|X)$). Even in the case of a 2-level encoding with [0,1], the predictions of the linear model could fall outside of these range and this would make them hard to interpret as probabilities (**see Modelling section**). \n",
    "\n",
    "\n",
    "## Logistic Regression \n",
    "The logistic regression (LR) model models the *probability* that a response variable $Y$ belongs to particular category. In this notebook, we will be applying the LR model to a `default` dataset - credit card default with the objective to determine whether or not a client will default on their credit card payment. The `Default` data set response value has two levels - `Yes` or `No`.\n",
    "\n",
    "**The logistic regression model models the probability that an observation belongs to either category - rather than the category itself.** \n",
    "For example, the probability of default given `income`:$$Pr(default=Yes|income) == p(income)$$\n",
    "\n",
    "The values of $p(income)$ will range between 0 and 1. Therefore for any given value of `income`, a prediction can be made for `default`. A common default is to use 0.5 as a threshold for classifying the postive case i.e. $default == \\text(Yes)$ for any individual where $p(income) > 0.5$. This threshold value can vary depending on the strictness required for the business case.\n",
    "\n",
    "### Logistic Model\n",
    "The logistic function is used to model the probability that an observation belongs to a particular response category. The logistic function is defined as:\n",
    "$$p(X) = \\frac{\\exp^{\\beta_{0}+\\beta_{1}X}}{1+\\exp^{\\beta_{0}+\\beta_{1}X}}$$\n",
    "\n",
    "The *maximum likelihood* is used to fit the model above. \n",
    "#### Odds\n",
    "The Odds is the ratio of an event happening over it not happening. Traditionally used in betting/gambling as it more intuitive for strategy. Odds can range between 0 and $\\infty$\n",
    "$$\\frac{p(X)}{1-p(X)} = \\exp^{\\beta_{0}+\\beta_{1}X}$$\n",
    "For example\n",
    "9 out of 10  people with odds of 9 will default - $\\frac{0.9}{1-0.9} = 9$\n",
    "\n",
    "The logit or log odds allows us to have a linear relationship to $X$. The logit is defined as:\n",
    "$$\\log\\left(\\frac{p(X)}{1-p(X)} \\right) = \\beta_{0}+\\beta_{1}X$$\n",
    "- From linear regression, we can say a unit increase in X changes the log odds by $\\beta_{1}$ on average.\n",
    "- $\\Delta p(X)$ due to a unit change in X depends on current value of X\n",
    "- If $\\beta_{1}$ is positive then increasing X will be associated with increasing $p(x)$ and vice versa\n",
    "\n",
    "### Estimating regression coefficients\n",
    "**Maximum likelihood** is the commonly used method for determining the logistic regression coefficients. The method looks for estimates of $\\beta_{0}$ and $\\beta_{1}$ such that the predicted probability $\\hat{p}(x_i)$ of target category corresponds to as closely to observed status. Formal definition of likelihood function\n",
    "$$\\mathscr{L}(\\beta_{0},\\beta_{1}) = \\underset{i:y_{i}=1}\\Pi p(x_{i}),\\underset{i':y_{i'}=0}\\Pi(1-p(x_{i})) $$\n",
    "The maximum likelihood function is used to fit many non-linear models."
   ]
  },
  {
   "cell_type": "markdown",
   "metadata": {},
   "source": []
  },
  {
   "cell_type": "code",
   "execution_count": 1,
   "metadata": {},
   "outputs": [],
   "source": [
    "import numpy as np\n",
    "import pandas as pd\n",
    "import matplotlib.pyplot as plt\n",
    "import seaborn as sns"
   ]
  },
  {
   "cell_type": "markdown",
   "metadata": {},
   "source": [
    "## Exploratory Data Analysis"
   ]
  },
  {
   "cell_type": "code",
   "execution_count": 2,
   "metadata": {},
   "outputs": [],
   "source": [
    "# read in default data\n",
    "df = pd.read_csv(\"../data/default.csv\")"
   ]
  },
  {
   "cell_type": "code",
   "execution_count": 3,
   "metadata": {},
   "outputs": [
    {
     "data": {
      "text/plain": [
       "(10000, 4)"
      ]
     },
     "execution_count": 3,
     "metadata": {},
     "output_type": "execute_result"
    }
   ],
   "source": [
    "# check size of the dataset with shape\n",
    "df.shape"
   ]
  },
  {
   "cell_type": "code",
   "execution_count": 4,
   "metadata": {},
   "outputs": [
    {
     "data": {
      "text/html": [
       "<div>\n",
       "<style scoped>\n",
       "    .dataframe tbody tr th:only-of-type {\n",
       "        vertical-align: middle;\n",
       "    }\n",
       "\n",
       "    .dataframe tbody tr th {\n",
       "        vertical-align: top;\n",
       "    }\n",
       "\n",
       "    .dataframe thead th {\n",
       "        text-align: right;\n",
       "    }\n",
       "</style>\n",
       "<table border=\"1\" class=\"dataframe\">\n",
       "  <thead>\n",
       "    <tr style=\"text-align: right;\">\n",
       "      <th></th>\n",
       "      <th>default</th>\n",
       "      <th>student</th>\n",
       "      <th>balance</th>\n",
       "      <th>income</th>\n",
       "    </tr>\n",
       "  </thead>\n",
       "  <tbody>\n",
       "    <tr>\n",
       "      <th>0</th>\n",
       "      <td>No</td>\n",
       "      <td>No</td>\n",
       "      <td>729.526495</td>\n",
       "      <td>44361.625074</td>\n",
       "    </tr>\n",
       "    <tr>\n",
       "      <th>1</th>\n",
       "      <td>No</td>\n",
       "      <td>Yes</td>\n",
       "      <td>817.180407</td>\n",
       "      <td>12106.134700</td>\n",
       "    </tr>\n",
       "    <tr>\n",
       "      <th>2</th>\n",
       "      <td>No</td>\n",
       "      <td>No</td>\n",
       "      <td>1073.549164</td>\n",
       "      <td>31767.138947</td>\n",
       "    </tr>\n",
       "    <tr>\n",
       "      <th>3</th>\n",
       "      <td>No</td>\n",
       "      <td>No</td>\n",
       "      <td>529.250605</td>\n",
       "      <td>35704.493935</td>\n",
       "    </tr>\n",
       "    <tr>\n",
       "      <th>4</th>\n",
       "      <td>No</td>\n",
       "      <td>No</td>\n",
       "      <td>785.655883</td>\n",
       "      <td>38463.495879</td>\n",
       "    </tr>\n",
       "    <tr>\n",
       "      <th>5</th>\n",
       "      <td>No</td>\n",
       "      <td>Yes</td>\n",
       "      <td>919.588530</td>\n",
       "      <td>7491.558572</td>\n",
       "    </tr>\n",
       "    <tr>\n",
       "      <th>6</th>\n",
       "      <td>No</td>\n",
       "      <td>No</td>\n",
       "      <td>825.513331</td>\n",
       "      <td>24905.226578</td>\n",
       "    </tr>\n",
       "    <tr>\n",
       "      <th>7</th>\n",
       "      <td>No</td>\n",
       "      <td>Yes</td>\n",
       "      <td>808.667504</td>\n",
       "      <td>17600.451344</td>\n",
       "    </tr>\n",
       "    <tr>\n",
       "      <th>8</th>\n",
       "      <td>No</td>\n",
       "      <td>No</td>\n",
       "      <td>1161.057854</td>\n",
       "      <td>37468.529288</td>\n",
       "    </tr>\n",
       "    <tr>\n",
       "      <th>9</th>\n",
       "      <td>No</td>\n",
       "      <td>No</td>\n",
       "      <td>0.000000</td>\n",
       "      <td>29275.268293</td>\n",
       "    </tr>\n",
       "  </tbody>\n",
       "</table>\n",
       "</div>"
      ],
      "text/plain": [
       "  default student      balance        income\n",
       "0      No      No   729.526495  44361.625074\n",
       "1      No     Yes   817.180407  12106.134700\n",
       "2      No      No  1073.549164  31767.138947\n",
       "3      No      No   529.250605  35704.493935\n",
       "4      No      No   785.655883  38463.495879\n",
       "5      No     Yes   919.588530   7491.558572\n",
       "6      No      No   825.513331  24905.226578\n",
       "7      No     Yes   808.667504  17600.451344\n",
       "8      No      No  1161.057854  37468.529288\n",
       "9      No      No     0.000000  29275.268293"
      ]
     },
     "execution_count": 4,
     "metadata": {},
     "output_type": "execute_result"
    }
   ],
   "source": [
    "# preview data\n",
    "df.head(10)"
   ]
  },
  {
   "cell_type": "code",
   "execution_count": 5,
   "metadata": {},
   "outputs": [
    {
     "name": "stdout",
     "output_type": "stream",
     "text": [
      "<class 'pandas.core.frame.DataFrame'>\n",
      "RangeIndex: 10000 entries, 0 to 9999\n",
      "Data columns (total 4 columns):\n",
      " #   Column   Non-Null Count  Dtype  \n",
      "---  ------   --------------  -----  \n",
      " 0   default  10000 non-null  object \n",
      " 1   student  10000 non-null  object \n",
      " 2   balance  10000 non-null  float64\n",
      " 3   income   10000 non-null  float64\n",
      "dtypes: float64(2), object(2)\n",
      "memory usage: 312.6+ KB\n"
     ]
    }
   ],
   "source": [
    "# get overview information of dataset\n",
    "df.info()"
   ]
  },
  {
   "cell_type": "code",
   "execution_count": 6,
   "metadata": {},
   "outputs": [
    {
     "data": {
      "text/html": [
       "<div>\n",
       "<style scoped>\n",
       "    .dataframe tbody tr th:only-of-type {\n",
       "        vertical-align: middle;\n",
       "    }\n",
       "\n",
       "    .dataframe tbody tr th {\n",
       "        vertical-align: top;\n",
       "    }\n",
       "\n",
       "    .dataframe thead th {\n",
       "        text-align: right;\n",
       "    }\n",
       "</style>\n",
       "<table border=\"1\" class=\"dataframe\">\n",
       "  <thead>\n",
       "    <tr style=\"text-align: right;\">\n",
       "      <th></th>\n",
       "      <th>count</th>\n",
       "      <th>mean</th>\n",
       "      <th>std</th>\n",
       "      <th>min</th>\n",
       "      <th>25%</th>\n",
       "      <th>50%</th>\n",
       "      <th>75%</th>\n",
       "      <th>max</th>\n",
       "    </tr>\n",
       "  </thead>\n",
       "  <tbody>\n",
       "    <tr>\n",
       "      <th>balance</th>\n",
       "      <td>10000.0</td>\n",
       "      <td>835.374886</td>\n",
       "      <td>483.714985</td>\n",
       "      <td>0.000000</td>\n",
       "      <td>481.731105</td>\n",
       "      <td>823.636973</td>\n",
       "      <td>1166.308386</td>\n",
       "      <td>2654.322576</td>\n",
       "    </tr>\n",
       "    <tr>\n",
       "      <th>income</th>\n",
       "      <td>10000.0</td>\n",
       "      <td>33516.981876</td>\n",
       "      <td>13336.639563</td>\n",
       "      <td>771.967729</td>\n",
       "      <td>21340.462903</td>\n",
       "      <td>34552.644802</td>\n",
       "      <td>43807.729272</td>\n",
       "      <td>73554.233495</td>\n",
       "    </tr>\n",
       "  </tbody>\n",
       "</table>\n",
       "</div>"
      ],
      "text/plain": [
       "           count          mean           std         min           25%  \\\n",
       "balance  10000.0    835.374886    483.714985    0.000000    481.731105   \n",
       "income   10000.0  33516.981876  13336.639563  771.967729  21340.462903   \n",
       "\n",
       "                  50%           75%           max  \n",
       "balance    823.636973   1166.308386   2654.322576  \n",
       "income   34552.644802  43807.729272  73554.233495  "
      ]
     },
     "execution_count": 6,
     "metadata": {},
     "output_type": "execute_result"
    }
   ],
   "source": [
    "# get statistical overview of dataset (numeric columns)\n",
    "df.describe().transpose()"
   ]
  },
  {
   "cell_type": "code",
   "execution_count": 7,
   "metadata": {},
   "outputs": [
    {
     "data": {
      "text/html": [
       "<div>\n",
       "<style scoped>\n",
       "    .dataframe tbody tr th:only-of-type {\n",
       "        vertical-align: middle;\n",
       "    }\n",
       "\n",
       "    .dataframe tbody tr th {\n",
       "        vertical-align: top;\n",
       "    }\n",
       "\n",
       "    .dataframe thead th {\n",
       "        text-align: right;\n",
       "    }\n",
       "</style>\n",
       "<table border=\"1\" class=\"dataframe\">\n",
       "  <thead>\n",
       "    <tr style=\"text-align: right;\">\n",
       "      <th></th>\n",
       "      <th>count</th>\n",
       "      <th>unique</th>\n",
       "      <th>top</th>\n",
       "      <th>freq</th>\n",
       "    </tr>\n",
       "  </thead>\n",
       "  <tbody>\n",
       "    <tr>\n",
       "      <th>default</th>\n",
       "      <td>10000</td>\n",
       "      <td>2</td>\n",
       "      <td>No</td>\n",
       "      <td>9667</td>\n",
       "    </tr>\n",
       "    <tr>\n",
       "      <th>student</th>\n",
       "      <td>10000</td>\n",
       "      <td>2</td>\n",
       "      <td>No</td>\n",
       "      <td>7056</td>\n",
       "    </tr>\n",
       "  </tbody>\n",
       "</table>\n",
       "</div>"
      ],
      "text/plain": [
       "         count unique top  freq\n",
       "default  10000      2  No  9667\n",
       "student  10000      2  No  7056"
      ]
     },
     "execution_count": 7,
     "metadata": {},
     "output_type": "execute_result"
    }
   ],
   "source": [
    "df.describe(include=\"O\").transpose()"
   ]
  },
  {
   "cell_type": "code",
   "execution_count": 8,
   "metadata": {},
   "outputs": [],
   "source": [
    "default_student_agg = df.groupby(\"default\").count()[\"student\"]"
   ]
  },
  {
   "cell_type": "code",
   "execution_count": 9,
   "metadata": {},
   "outputs": [
    {
     "data": {
      "image/png": "[encoded data removed]",
      "text/plain": [
       "<Figure size 1500x400 with 3 Axes>"
      ]
     },
     "metadata": {},
     "output_type": "display_data"
    }
   ],
   "source": [
    "fig, (ax1,ax2,ax3) = plt.subplots(1, 3, figsize=(15,4))\n",
    "# colour map\n",
    "colours={\"Yes\": \"orange\", \"No\":\"blue\"}\n",
    "colour_list = [colours[cat]for cat in df[\"default\"]]\n",
    "# plot 1\n",
    "ax1.scatter(x=df[\"balance\"], y=df[\"income\"], c=colour_list)\n",
    "ax1.set_xlabel(\"Balance\")\n",
    "ax1.set_ylabel(\"Income\")\n",
    "\n",
    "# plot 2\n",
    "sns.boxplot(data=df, x=\"default\", y=\"balance\", ax=ax2, hue=\"default\")\n",
    "ax2.set_xlabel(\"Default\")\n",
    "ax2.set_ylabel(\"Balance\")\n",
    "\n",
    "# plot 3\n",
    "sns.boxplot(data=df, x=\"default\", y=\"income\", ax=ax3, hue=\"default\")\n",
    "plt.xlabel(\"Default\")\n",
    "plt.ylabel(\"Income\")\n",
    "plt.tight_layout()\n",
    "plt.show()"
   ]
  },
  {
   "cell_type": "markdown",
   "metadata": {},
   "source": [
    "show default status vs continous variables\n",
    "show proportion of students who are defaulters etc\n",
    "show difference in default according to student status"
   ]
  },
  {
   "cell_type": "markdown",
   "metadata": {},
   "source": [
    "# Modelling "
   ]
  },
  {
   "cell_type": "code",
   "execution_count": 10,
   "metadata": {},
   "outputs": [],
   "source": [
    "from sklearn.model_selection import train_test_split\n",
    "import statsmodels.api as sm\n",
    "# from sklearn.linear_model import LogisticRegression\n",
    "from sklearn.metrics import classification_report, confusion_matrix"
   ]
  },
  {
   "cell_type": "markdown",
   "metadata": {},
   "source": [
    "Before modelling, data needs to be split into training/validation/test sets - use 80/10/10 split"
   ]
  },
  {
   "cell_type": "code",
   "execution_count": 11,
   "metadata": {},
   "outputs": [],
   "source": [
    "# create independent variables\n",
    "X = df[[\"student\",\"income\",\"balance\"]]\n",
    "# create response variable\n",
    "y = df[\"default\"]"
   ]
  },
  {
   "cell_type": "markdown",
   "metadata": {},
   "source": [
    "Models will require that we change default from an object to binary encoding. \n",
    "\n",
    "Yes - 1\n",
    "No - 0"
   ]
  },
  {
   "cell_type": "code",
   "execution_count": 12,
   "metadata": {},
   "outputs": [],
   "source": [
    "y = np.where(y==\"Yes\",1,0)"
   ]
  },
  {
   "cell_type": "code",
   "execution_count": 13,
   "metadata": {},
   "outputs": [],
   "source": [
    "# split the data into training and testing sets\n",
    "X_train, X_test, y_train, y_test = train_test_split(X,y, test_size=0.20, random_state=100)"
   ]
  },
  {
   "cell_type": "code",
   "execution_count": 14,
   "metadata": {},
   "outputs": [],
   "source": [
    "# split the test set into validation and test\n",
    "X_val, X_val, y_val, y_test = train_test_split(X_test,y_test, test_size=0.5, random_state=100)"
   ]
  },
  {
   "cell_type": "markdown",
   "metadata": {},
   "source": [
    "Firstly, let us look at the probability of default using the `balance`. This is a simle logistic regression problem.\n",
    "\n",
    "**Step 1** Initialize LogisticRegression classifier object and use a random_state so that results can be reproduced."
   ]
  },
  {
   "cell_type": "code",
   "execution_count": 15,
   "metadata": {},
   "outputs": [],
   "source": [
    "X_train_bal = X_train[[\"balance\"]]\n",
    "X_val_bal = X_val[[\"balance\"]]\n",
    "# y_train = y_train[[\"default\"]]"
   ]
  },
  {
   "cell_type": "code",
   "execution_count": 16,
   "metadata": {},
   "outputs": [
    {
     "data": {
      "text/plain": [
       "((1000, 1), (8000, 1))"
      ]
     },
     "execution_count": 16,
     "metadata": {},
     "output_type": "execute_result"
    }
   ],
   "source": [
    "X_val_bal.shape, X_train_bal.shape"
   ]
  },
  {
   "cell_type": "code",
   "execution_count": 17,
   "metadata": {},
   "outputs": [],
   "source": [
    "# add a constant to predictor variables\n",
    "X_train_bal = sm.add_constant(X_train_bal)\n"
   ]
  },
  {
   "cell_type": "code",
   "execution_count": 18,
   "metadata": {},
   "outputs": [
    {
     "data": {
      "text/html": [
       "<div>\n",
       "<style scoped>\n",
       "    .dataframe tbody tr th:only-of-type {\n",
       "        vertical-align: middle;\n",
       "    }\n",
       "\n",
       "    .dataframe tbody tr th {\n",
       "        vertical-align: top;\n",
       "    }\n",
       "\n",
       "    .dataframe thead th {\n",
       "        text-align: right;\n",
       "    }\n",
       "</style>\n",
       "<table border=\"1\" class=\"dataframe\">\n",
       "  <thead>\n",
       "    <tr style=\"text-align: right;\">\n",
       "      <th></th>\n",
       "      <th>const</th>\n",
       "      <th>balance</th>\n",
       "    </tr>\n",
       "  </thead>\n",
       "  <tbody>\n",
       "    <tr>\n",
       "      <th>8369</th>\n",
       "      <td>1.0</td>\n",
       "      <td>1491.707545</td>\n",
       "    </tr>\n",
       "    <tr>\n",
       "      <th>9722</th>\n",
       "      <td>1.0</td>\n",
       "      <td>713.559839</td>\n",
       "    </tr>\n",
       "    <tr>\n",
       "      <th>6950</th>\n",
       "      <td>1.0</td>\n",
       "      <td>676.652720</td>\n",
       "    </tr>\n",
       "    <tr>\n",
       "      <th>1919</th>\n",
       "      <td>1.0</td>\n",
       "      <td>595.065973</td>\n",
       "    </tr>\n",
       "    <tr>\n",
       "      <th>5713</th>\n",
       "      <td>1.0</td>\n",
       "      <td>1719.169241</td>\n",
       "    </tr>\n",
       "    <tr>\n",
       "      <th>...</th>\n",
       "      <td>...</td>\n",
       "      <td>...</td>\n",
       "    </tr>\n",
       "    <tr>\n",
       "      <th>350</th>\n",
       "      <td>1.0</td>\n",
       "      <td>454.466962</td>\n",
       "    </tr>\n",
       "    <tr>\n",
       "      <th>79</th>\n",
       "      <td>1.0</td>\n",
       "      <td>196.456913</td>\n",
       "    </tr>\n",
       "    <tr>\n",
       "      <th>8039</th>\n",
       "      <td>1.0</td>\n",
       "      <td>931.591055</td>\n",
       "    </tr>\n",
       "    <tr>\n",
       "      <th>6936</th>\n",
       "      <td>1.0</td>\n",
       "      <td>531.976408</td>\n",
       "    </tr>\n",
       "    <tr>\n",
       "      <th>5640</th>\n",
       "      <td>1.0</td>\n",
       "      <td>501.391686</td>\n",
       "    </tr>\n",
       "  </tbody>\n",
       "</table>\n",
       "<p>8000 rows × 2 columns</p>\n",
       "</div>"
      ],
      "text/plain": [
       "      const      balance\n",
       "8369    1.0  1491.707545\n",
       "9722    1.0   713.559839\n",
       "6950    1.0   676.652720\n",
       "1919    1.0   595.065973\n",
       "5713    1.0  1719.169241\n",
       "...     ...          ...\n",
       "350     1.0   454.466962\n",
       "79      1.0   196.456913\n",
       "8039    1.0   931.591055\n",
       "6936    1.0   531.976408\n",
       "5640    1.0   501.391686\n",
       "\n",
       "[8000 rows x 2 columns]"
      ]
     },
     "execution_count": 18,
     "metadata": {},
     "output_type": "execute_result"
    }
   ],
   "source": [
    "X_train_bal"
   ]
  },
  {
   "cell_type": "markdown",
   "metadata": {},
   "source": [
    "**Step 2** Fit the model on the training set."
   ]
  },
  {
   "cell_type": "code",
   "execution_count": 19,
   "metadata": {},
   "outputs": [
    {
     "data": {
      "text/plain": [
       "(array([0, 0, 0, ..., 0, 0, 0]),\n",
       "      student        income      balance\n",
       " 8369      No  40637.447983  1491.707545\n",
       " 9722     Yes  24324.143942   713.559839\n",
       " 6950      No  31741.431059   676.652720\n",
       " 1919      No  29842.886050   595.065973\n",
       " 5713      No  57866.058765  1719.169241\n",
       " ...      ...           ...          ...\n",
       " 350      Yes  15092.439308   454.466962\n",
       " 79        No  41346.785913   196.456913\n",
       " 8039      No  33302.240020   931.591055\n",
       " 6936     Yes  21357.632161   531.976408\n",
       " 5640      No  42856.189998   501.391686\n",
       " \n",
       " [8000 rows x 3 columns])"
      ]
     },
     "execution_count": 19,
     "metadata": {},
     "output_type": "execute_result"
    }
   ],
   "source": [
    "y_train, X_train"
   ]
  },
  {
   "cell_type": "markdown",
   "metadata": {},
   "source": [
    "**Linear regression**\n",
    "\n",
    "This is an attempt to model the probability of default using balance as a predictor."
   ]
  },
  {
   "cell_type": "code",
   "execution_count": 20,
   "metadata": {},
   "outputs": [
    {
     "name": "stdout",
     "output_type": "stream",
     "text": [
      "                            OLS Regression Results                            \n",
      "==============================================================================\n",
      "Dep. Variable:                      y   R-squared:                       0.126\n",
      "Model:                            OLS   Adj. R-squared:                  0.126\n",
      "Method:                 Least Squares   F-statistic:                     1154.\n",
      "Date:                Fri, 01 Nov 2024   Prob (F-statistic):          1.76e-236\n",
      "Time:                        11:31:42   Log-Likelihood:                 2908.9\n",
      "No. Observations:                8000   AIC:                            -5814.\n",
      "Df Residuals:                    7998   BIC:                            -5800.\n",
      "Df Model:                           1                                         \n",
      "Covariance Type:            nonrobust                                         \n",
      "==============================================================================\n",
      "                 coef    std err          t      P>|t|      [0.025      0.975]\n",
      "------------------------------------------------------------------------------\n",
      "const         -0.0769      0.004    -20.486      0.000      -0.084      -0.070\n",
      "balance        0.0001   3.88e-06     33.976      0.000       0.000       0.000\n",
      "==============================================================================\n",
      "Omnibus:                     6790.054   Durbin-Watson:                   1.972\n",
      "Prob(Omnibus):                  0.000   Jarque-Bera (JB):           140177.166\n",
      "Skew:                           4.200   Prob(JB):                         0.00\n",
      "Kurtosis:                      21.708   Cond. No.                     1.93e+03\n",
      "==============================================================================\n",
      "\n",
      "Notes:\n",
      "[1] Standard Errors assume that the covariance matrix of the errors is correctly specified.\n",
      "[2] The condition number is large, 1.93e+03. This might indicate that there are\n",
      "strong multicollinearity or other numerical problems.\n"
     ]
    }
   ],
   "source": [
    "# fit linear regression (OLS) model to data\n",
    "model_bal_lin = sm.OLS(y_train, X_train_bal).fit()\n",
    "# print the summary\n",
    "print(model_bal_lin.summary())"
   ]
  },
  {
   "cell_type": "code",
   "execution_count": 303,
   "metadata": {},
   "outputs": [
    {
     "name": "stdout",
     "output_type": "stream",
     "text": [
      "Optimization terminated successfully.\n",
      "         Current function value: 0.078287\n",
      "         Iterations 10\n"
     ]
    }
   ],
   "source": [
    "# fit the data to the model\n",
    "model_bal = sm.Logit(y_train, X_train_bal)\n",
    "log_result = model_bal.fit()"
   ]
  },
  {
   "cell_type": "code",
   "execution_count": 304,
   "metadata": {},
   "outputs": [
    {
     "name": "stdout",
     "output_type": "stream",
     "text": [
      "                           Logit Regression Results                           \n",
      "==============================================================================\n",
      "Dep. Variable:                      y   No. Observations:                 8000\n",
      "Model:                          Logit   Df Residuals:                     7998\n",
      "Method:                           MLE   Df Model:                            1\n",
      "Date:                Fri, 13 Sep 2024   Pseudo R-squ.:                  0.4664\n",
      "Time:                        15:16:30   Log-Likelihood:                -626.29\n",
      "converged:                       True   LL-Null:                       -1173.6\n",
      "Covariance Type:            nonrobust   LLR p-value:                4.681e-240\n",
      "==============================================================================\n",
      "                 coef    std err          z      P>|z|      [0.025      0.975]\n",
      "------------------------------------------------------------------------------\n",
      "const        -10.8992      0.416    -26.181      0.000     -11.715     -10.083\n",
      "balance        0.0056      0.000     22.349      0.000       0.005       0.006\n",
      "==============================================================================\n",
      "\n",
      "Possibly complete quasi-separation: A fraction 0.15 of observations can be\n",
      "perfectly predicted. This might indicate that there is complete\n",
      "quasi-separation. In this case some parameters will not be identified.\n"
     ]
    }
   ],
   "source": [
    "# print summary\n",
    "print(log_result.summary())"
   ]
  },
  {
   "cell_type": "markdown",
   "metadata": {},
   "source": [
    "From the summary above, \n",
    "- A unit increase in `balance` is associated with an increase in the log odds of `default` by 0.0056 units.\n",
    "- Null hypothesis $H_{0}:\\beta_{1} = 0$ can be rejected because of the negligible p-value (0)\n",
    "- Therefore, there is a relationship between balance and the probability of default. "
   ]
  },
  {
   "cell_type": "markdown",
   "metadata": {},
   "source": [
    "Predictions\n",
    "\n",
    "Predict the probabilities of default using the validation dataset. "
   ]
  },
  {
   "cell_type": "code",
   "execution_count": 305,
   "metadata": {},
   "outputs": [
    {
     "data": {
      "text/html": [
       "<div>\n",
       "<style scoped>\n",
       "    .dataframe tbody tr th:only-of-type {\n",
       "        vertical-align: middle;\n",
       "    }\n",
       "\n",
       "    .dataframe tbody tr th {\n",
       "        vertical-align: top;\n",
       "    }\n",
       "\n",
       "    .dataframe thead th {\n",
       "        text-align: right;\n",
       "    }\n",
       "</style>\n",
       "<table border=\"1\" class=\"dataframe\">\n",
       "  <thead>\n",
       "    <tr style=\"text-align: right;\">\n",
       "      <th></th>\n",
       "      <th>balance</th>\n",
       "    </tr>\n",
       "  </thead>\n",
       "  <tbody>\n",
       "    <tr>\n",
       "      <th>6728</th>\n",
       "      <td>487.416894</td>\n",
       "    </tr>\n",
       "    <tr>\n",
       "      <th>5702</th>\n",
       "      <td>586.968885</td>\n",
       "    </tr>\n",
       "    <tr>\n",
       "      <th>4869</th>\n",
       "      <td>1270.130906</td>\n",
       "    </tr>\n",
       "    <tr>\n",
       "      <th>2739</th>\n",
       "      <td>1755.388910</td>\n",
       "    </tr>\n",
       "    <tr>\n",
       "      <th>1793</th>\n",
       "      <td>550.898967</td>\n",
       "    </tr>\n",
       "    <tr>\n",
       "      <th>...</th>\n",
       "      <td>...</td>\n",
       "    </tr>\n",
       "    <tr>\n",
       "      <th>4236</th>\n",
       "      <td>564.738467</td>\n",
       "    </tr>\n",
       "    <tr>\n",
       "      <th>932</th>\n",
       "      <td>1243.554025</td>\n",
       "    </tr>\n",
       "    <tr>\n",
       "      <th>3774</th>\n",
       "      <td>319.174577</td>\n",
       "    </tr>\n",
       "    <tr>\n",
       "      <th>960</th>\n",
       "      <td>1554.845545</td>\n",
       "    </tr>\n",
       "    <tr>\n",
       "      <th>7766</th>\n",
       "      <td>969.538310</td>\n",
       "    </tr>\n",
       "  </tbody>\n",
       "</table>\n",
       "<p>1000 rows × 1 columns</p>\n",
       "</div>"
      ],
      "text/plain": [
       "          balance\n",
       "6728   487.416894\n",
       "5702   586.968885\n",
       "4869  1270.130906\n",
       "2739  1755.388910\n",
       "1793   550.898967\n",
       "...           ...\n",
       "4236   564.738467\n",
       "932   1243.554025\n",
       "3774   319.174577\n",
       "960   1554.845545\n",
       "7766   969.538310\n",
       "\n",
       "[1000 rows x 1 columns]"
      ]
     },
     "execution_count": 305,
     "metadata": {},
     "output_type": "execute_result"
    }
   ],
   "source": [
    "X_val_bal"
   ]
  },
  {
   "cell_type": "markdown",
   "metadata": {},
   "source": [
    "**Linear Regression**\n"
   ]
  },
  {
   "cell_type": "code",
   "execution_count": 22,
   "metadata": {},
   "outputs": [
    {
     "data": {
      "text/html": [
       "<div>\n",
       "<style scoped>\n",
       "    .dataframe tbody tr th:only-of-type {\n",
       "        vertical-align: middle;\n",
       "    }\n",
       "\n",
       "    .dataframe tbody tr th {\n",
       "        vertical-align: top;\n",
       "    }\n",
       "\n",
       "    .dataframe thead th {\n",
       "        text-align: right;\n",
       "    }\n",
       "</style>\n",
       "<table border=\"1\" class=\"dataframe\">\n",
       "  <thead>\n",
       "    <tr style=\"text-align: right;\">\n",
       "      <th></th>\n",
       "      <th>balance</th>\n",
       "      <th>validation_probaility</th>\n",
       "    </tr>\n",
       "  </thead>\n",
       "  <tbody>\n",
       "    <tr>\n",
       "      <th>6728</th>\n",
       "      <td>487.416894</td>\n",
       "      <td>-0.012687</td>\n",
       "    </tr>\n",
       "    <tr>\n",
       "      <th>5702</th>\n",
       "      <td>586.968885</td>\n",
       "      <td>0.000433</td>\n",
       "    </tr>\n",
       "    <tr>\n",
       "      <th>4869</th>\n",
       "      <td>1270.130906</td>\n",
       "      <td>0.090472</td>\n",
       "    </tr>\n",
       "    <tr>\n",
       "      <th>2739</th>\n",
       "      <td>1755.388910</td>\n",
       "      <td>0.154428</td>\n",
       "    </tr>\n",
       "    <tr>\n",
       "      <th>1793</th>\n",
       "      <td>550.898967</td>\n",
       "      <td>-0.004321</td>\n",
       "    </tr>\n",
       "    <tr>\n",
       "      <th>6487</th>\n",
       "      <td>535.182916</td>\n",
       "      <td>-0.006392</td>\n",
       "    </tr>\n",
       "    <tr>\n",
       "      <th>3214</th>\n",
       "      <td>935.465250</td>\n",
       "      <td>0.046364</td>\n",
       "    </tr>\n",
       "    <tr>\n",
       "      <th>8582</th>\n",
       "      <td>969.252341</td>\n",
       "      <td>0.050817</td>\n",
       "    </tr>\n",
       "    <tr>\n",
       "      <th>8667</th>\n",
       "      <td>1649.211607</td>\n",
       "      <td>0.140434</td>\n",
       "    </tr>\n",
       "    <tr>\n",
       "      <th>5700</th>\n",
       "      <td>456.003327</td>\n",
       "      <td>-0.016828</td>\n",
       "    </tr>\n",
       "  </tbody>\n",
       "</table>\n",
       "</div>"
      ],
      "text/plain": [
       "          balance  validation_probaility\n",
       "6728   487.416894              -0.012687\n",
       "5702   586.968885               0.000433\n",
       "4869  1270.130906               0.090472\n",
       "2739  1755.388910               0.154428\n",
       "1793   550.898967              -0.004321\n",
       "6487   535.182916              -0.006392\n",
       "3214   935.465250               0.046364\n",
       "8582   969.252341               0.050817\n",
       "8667  1649.211607               0.140434\n",
       "5700   456.003327              -0.016828"
      ]
     },
     "execution_count": 22,
     "metadata": {},
     "output_type": "execute_result"
    }
   ],
   "source": [
    "# add constant to validation\n",
    "X_val_bal = sm.add_constant(X_val_bal)\n",
    "# predict on validation\n",
    "validation_probabilities = model_bal_lin.predict(X_val_bal)\n",
    "# print predicted probabiliteis \n",
    "# validation_outcomes = (validation_probabilities > 0.5).astype(int) # changes True and False to 0 and 1 based on condition > 0.5\n",
    "# store in dataframe\n",
    "val_pred_df = pd.DataFrame({\"balance\":X_val[\"balance\"],\"validation_probaility\":validation_probabilities})#,\"validation_outcome\": validation_outcomes})\n",
    "# show 10 results\n",
    "val_pred_df.head(10)"
   ]
  },
  {
   "cell_type": "code",
   "execution_count": 26,
   "metadata": {},
   "outputs": [
    {
     "data": {
      "image/png": "[encoded data removed]",
      "text/plain": [
       "<Figure size 1500x400 with 1 Axes>"
      ]
     },
     "metadata": {},
     "output_type": "display_data"
    }
   ],
   "source": [
    "# plot relationship between credit card balance and default rate for students and non-students\n",
    "fig, (ax1) = plt.subplots(1, 1, figsize=(15,4))\n",
    "# plot one - scatter \n",
    "sns.lineplot(data=val_pred_df, x=\"balance\", y=\"validation_probaility\",ax=ax1)\n",
    "ax1.axhline(1, linestyle=\"--\", color=\"black\")\n",
    "ax1.axhline(0, linestyle=\"--\", color=\"black\")\n",
    "\n",
    "plt.show()"
   ]
  },
  {
   "cell_type": "markdown",
   "metadata": {},
   "source": [
    "From the plot above, we can see that balances close 0 the model predicts a negative probability of default and for balances considerably larger than 2000, the model will predict a probability greater than 1. This is a problem as probabilities are bounded between 0 and 1. \n",
    "\n",
    "When a straight line is fit to a binary response coded as 0 or 1, it is possible to predict $p(X) < 0$ for a range of values of $X$ and $p(X) >1$ for other values as long as the range of $X$ is not limited. For this reason is why the logistic model is used as it uses a function that bounds its results to between 0 and 1."
   ]
  },
  {
   "cell_type": "markdown",
   "metadata": {},
   "source": [
    "**Logistic Regression**"
   ]
  },
  {
   "cell_type": "code",
   "execution_count": 306,
   "metadata": {},
   "outputs": [
    {
     "data": {
      "text/html": [
       "<div>\n",
       "<style scoped>\n",
       "    .dataframe tbody tr th:only-of-type {\n",
       "        vertical-align: middle;\n",
       "    }\n",
       "\n",
       "    .dataframe tbody tr th {\n",
       "        vertical-align: top;\n",
       "    }\n",
       "\n",
       "    .dataframe thead th {\n",
       "        text-align: right;\n",
       "    }\n",
       "</style>\n",
       "<table border=\"1\" class=\"dataframe\">\n",
       "  <thead>\n",
       "    <tr style=\"text-align: right;\">\n",
       "      <th></th>\n",
       "      <th>balance</th>\n",
       "      <th>validation_probaility</th>\n",
       "      <th>validation_outcome</th>\n",
       "    </tr>\n",
       "  </thead>\n",
       "  <tbody>\n",
       "    <tr>\n",
       "      <th>6728</th>\n",
       "      <td>487.416894</td>\n",
       "      <td>0.000289</td>\n",
       "      <td>0</td>\n",
       "    </tr>\n",
       "    <tr>\n",
       "      <th>5702</th>\n",
       "      <td>586.968885</td>\n",
       "      <td>0.000506</td>\n",
       "      <td>0</td>\n",
       "    </tr>\n",
       "    <tr>\n",
       "      <th>4869</th>\n",
       "      <td>1270.130906</td>\n",
       "      <td>0.023301</td>\n",
       "      <td>0</td>\n",
       "    </tr>\n",
       "    <tr>\n",
       "      <th>2739</th>\n",
       "      <td>1755.388910</td>\n",
       "      <td>0.269174</td>\n",
       "      <td>0</td>\n",
       "    </tr>\n",
       "    <tr>\n",
       "      <th>1793</th>\n",
       "      <td>550.898967</td>\n",
       "      <td>0.000413</td>\n",
       "      <td>0</td>\n",
       "    </tr>\n",
       "    <tr>\n",
       "      <th>6487</th>\n",
       "      <td>535.182916</td>\n",
       "      <td>0.000378</td>\n",
       "      <td>0</td>\n",
       "    </tr>\n",
       "    <tr>\n",
       "      <th>3214</th>\n",
       "      <td>935.465250</td>\n",
       "      <td>0.003600</td>\n",
       "      <td>0</td>\n",
       "    </tr>\n",
       "    <tr>\n",
       "      <th>8582</th>\n",
       "      <td>969.252341</td>\n",
       "      <td>0.004353</td>\n",
       "      <td>0</td>\n",
       "    </tr>\n",
       "    <tr>\n",
       "      <th>8667</th>\n",
       "      <td>1649.211607</td>\n",
       "      <td>0.168310</td>\n",
       "      <td>0</td>\n",
       "    </tr>\n",
       "    <tr>\n",
       "      <th>5700</th>\n",
       "      <td>456.003327</td>\n",
       "      <td>0.000242</td>\n",
       "      <td>0</td>\n",
       "    </tr>\n",
       "  </tbody>\n",
       "</table>\n",
       "</div>"
      ],
      "text/plain": [
       "          balance  validation_probaility  validation_outcome\n",
       "6728   487.416894               0.000289                   0\n",
       "5702   586.968885               0.000506                   0\n",
       "4869  1270.130906               0.023301                   0\n",
       "2739  1755.388910               0.269174                   0\n",
       "1793   550.898967               0.000413                   0\n",
       "6487   535.182916               0.000378                   0\n",
       "3214   935.465250               0.003600                   0\n",
       "8582   969.252341               0.004353                   0\n",
       "8667  1649.211607               0.168310                   0\n",
       "5700   456.003327               0.000242                   0"
      ]
     },
     "execution_count": 306,
     "metadata": {},
     "output_type": "execute_result"
    }
   ],
   "source": [
    "# add constant to validation\n",
    "X_val_bal = sm.add_constant(X_val_bal)\n",
    "# predict on validation\n",
    "validation_probabilities = log_result.predict(X_val_bal)\n",
    "# print predicted probabiliteis \n",
    "validation_outcomes = (validation_probabilities > 0.5).astype(int) # changes True and False to 0 and 1 based on condition > 0.5\n",
    "# store in dataframe\n",
    "val_pred_df = pd.DataFrame({\"balance\":X_val[\"balance\"],\"validation_probaility\":validation_probabilities,\"validation_outcome\": validation_outcomes})\n",
    "# show 10 results\n",
    "val_pred_df.head(10)"
   ]
  },
  {
   "cell_type": "code",
   "execution_count": 307,
   "metadata": {},
   "outputs": [
    {
     "data": {
      "text/html": [
       "<div>\n",
       "<style scoped>\n",
       "    .dataframe tbody tr th:only-of-type {\n",
       "        vertical-align: middle;\n",
       "    }\n",
       "\n",
       "    .dataframe tbody tr th {\n",
       "        vertical-align: top;\n",
       "    }\n",
       "\n",
       "    .dataframe thead th {\n",
       "        text-align: right;\n",
       "    }\n",
       "</style>\n",
       "<table border=\"1\" class=\"dataframe\">\n",
       "  <thead>\n",
       "    <tr style=\"text-align: right;\">\n",
       "      <th></th>\n",
       "      <th>balance</th>\n",
       "      <th>validation_probaility</th>\n",
       "      <th>validation_outcome</th>\n",
       "      <th>student</th>\n",
       "    </tr>\n",
       "  </thead>\n",
       "  <tbody>\n",
       "    <tr>\n",
       "      <th>6728</th>\n",
       "      <td>487.416894</td>\n",
       "      <td>0.000289</td>\n",
       "      <td>0</td>\n",
       "      <td>No</td>\n",
       "    </tr>\n",
       "    <tr>\n",
       "      <th>5702</th>\n",
       "      <td>586.968885</td>\n",
       "      <td>0.000506</td>\n",
       "      <td>0</td>\n",
       "      <td>No</td>\n",
       "    </tr>\n",
       "    <tr>\n",
       "      <th>4869</th>\n",
       "      <td>1270.130906</td>\n",
       "      <td>0.023301</td>\n",
       "      <td>0</td>\n",
       "      <td>No</td>\n",
       "    </tr>\n",
       "    <tr>\n",
       "      <th>2739</th>\n",
       "      <td>1755.388910</td>\n",
       "      <td>0.269174</td>\n",
       "      <td>0</td>\n",
       "      <td>No</td>\n",
       "    </tr>\n",
       "    <tr>\n",
       "      <th>1793</th>\n",
       "      <td>550.898967</td>\n",
       "      <td>0.000413</td>\n",
       "      <td>0</td>\n",
       "      <td>No</td>\n",
       "    </tr>\n",
       "    <tr>\n",
       "      <th>6487</th>\n",
       "      <td>535.182916</td>\n",
       "      <td>0.000378</td>\n",
       "      <td>0</td>\n",
       "      <td>No</td>\n",
       "    </tr>\n",
       "    <tr>\n",
       "      <th>3214</th>\n",
       "      <td>935.465250</td>\n",
       "      <td>0.003600</td>\n",
       "      <td>0</td>\n",
       "      <td>No</td>\n",
       "    </tr>\n",
       "    <tr>\n",
       "      <th>8582</th>\n",
       "      <td>969.252341</td>\n",
       "      <td>0.004353</td>\n",
       "      <td>0</td>\n",
       "      <td>Yes</td>\n",
       "    </tr>\n",
       "    <tr>\n",
       "      <th>8667</th>\n",
       "      <td>1649.211607</td>\n",
       "      <td>0.168310</td>\n",
       "      <td>0</td>\n",
       "      <td>No</td>\n",
       "    </tr>\n",
       "    <tr>\n",
       "      <th>5700</th>\n",
       "      <td>456.003327</td>\n",
       "      <td>0.000242</td>\n",
       "      <td>0</td>\n",
       "      <td>No</td>\n",
       "    </tr>\n",
       "  </tbody>\n",
       "</table>\n",
       "</div>"
      ],
      "text/plain": [
       "          balance  validation_probaility  validation_outcome student\n",
       "6728   487.416894               0.000289                   0      No\n",
       "5702   586.968885               0.000506                   0      No\n",
       "4869  1270.130906               0.023301                   0      No\n",
       "2739  1755.388910               0.269174                   0      No\n",
       "1793   550.898967               0.000413                   0      No\n",
       "6487   535.182916               0.000378                   0      No\n",
       "3214   935.465250               0.003600                   0      No\n",
       "8582   969.252341               0.004353                   0     Yes\n",
       "8667  1649.211607               0.168310                   0      No\n",
       "5700   456.003327               0.000242                   0      No"
      ]
     },
     "execution_count": 307,
     "metadata": {},
     "output_type": "execute_result"
    }
   ],
   "source": [
    "val_pred_df[\"student\"] = X_val[\"student\"]\n",
    "val_pred_df.head(10)"
   ]
  },
  {
   "cell_type": "code",
   "execution_count": 308,
   "metadata": {},
   "outputs": [
    {
     "data": {
      "text/plain": [
       "student\n",
       "No     724\n",
       "Yes    276\n",
       "Name: count, dtype: int64"
      ]
     },
     "execution_count": 308,
     "metadata": {},
     "output_type": "execute_result"
    }
   ],
   "source": [
    "val_pred_df[\"student\"].value_counts()"
   ]
  },
  {
   "cell_type": "code",
   "execution_count": 309,
   "metadata": {},
   "outputs": [
    {
     "data": {
      "text/plain": [
       "np.float64(0.01981204516783126)"
      ]
     },
     "execution_count": 309,
     "metadata": {},
     "output_type": "execute_result"
    }
   ],
   "source": [
    "mean_agg = val_pred_df.groupby(\"student\").mean()\n",
    "mean_agg[\"validation_probaility\"][\"No\"]"
   ]
  },
  {
   "cell_type": "code",
   "execution_count": null,
   "metadata": {},
   "outputs": [],
   "source": []
  },
  {
   "cell_type": "code",
   "execution_count": 310,
   "metadata": {},
   "outputs": [
    {
     "data": {
      "image/png": "[encoded data removed]",
      "text/plain": [
       "<Figure size 1500x400 with 2 Axes>"
      ]
     },
     "metadata": {},
     "output_type": "display_data"
    }
   ],
   "source": [
    "# plot relationship between credit card balance and default rate for students and non-students\n",
    "fig, (ax1,ax2) = plt.subplots(1, 2, figsize=(15,4))\n",
    "# plot one - scatter \n",
    "sns.lineplot(data=val_pred_df, x=\"balance\", y=\"validation_probaility\", hue=\"student\",ax=ax1)\n",
    "ax1.axhline(mean_agg[\"validation_probaility\"][\"No\"], linestyle=\"--\")\n",
    "ax1.axhline(mean_agg[\"validation_probaility\"][\"Yes\"], linestyle=\"--\", color=\"orange\")\n",
    "\n",
    "\n",
    "# plot two - box\n",
    "sns.boxplot(data=val_pred_df, x=\"student\", y=\"balance\", ax=ax2, hue=\"student\")\n",
    "ax2.set_xlabel(\"Student\")\n",
    "ax2.set_ylabel(\"Credit Card Balance\")\n",
    "\n",
    "plt.show()"
   ]
  },
  {
   "cell_type": "markdown",
   "metadata": {},
   "source": [
    "The plot on the left shows that average default rate is higher for students. From the boxplot on the right, data is showing that students on average have a higher credit balance than non-students. The left plot shows that the higher the credit card balance (debt) the higher the default rate.  "
   ]
  },
  {
   "cell_type": "markdown",
   "metadata": {},
   "source": [
    "**Exercise**:Probability of defaulting due to student status\n",
    "\n",
    "Student \n",
    "\n",
    "Yes - 1\n",
    "No - 0"
   ]
  },
  {
   "cell_type": "code",
   "execution_count": 311,
   "metadata": {},
   "outputs": [],
   "source": [
    "X_train_stud = X_train[[\"student\"]]\n",
    "X_train_stud = np.where(X_train_stud==\"Yes\",1,0)"
   ]
  },
  {
   "cell_type": "code",
   "execution_count": 312,
   "metadata": {},
   "outputs": [],
   "source": [
    "# add constant to X_train_stud\n",
    "X_train_stud = sm.add_constant(X_train_stud)"
   ]
  },
  {
   "cell_type": "code",
   "execution_count": 325,
   "metadata": {},
   "outputs": [
    {
     "name": "stdout",
     "output_type": "stream",
     "text": [
      "Optimization terminated successfully.\n",
      "         Current function value: 0.146215\n",
      "         Iterations 7\n"
     ]
    }
   ],
   "source": [
    "# fit the data to the model\n",
    "model_stud = sm.Logit(y_train, X_train_stud)\n",
    "log_result_stud = model_stud.fit()"
   ]
  },
  {
   "cell_type": "code",
   "execution_count": 326,
   "metadata": {},
   "outputs": [
    {
     "name": "stdout",
     "output_type": "stream",
     "text": [
      "                           Logit Regression Results                           \n",
      "==============================================================================\n",
      "Dep. Variable:                      y   No. Observations:                 8000\n",
      "Model:                          Logit   Df Residuals:                     7998\n",
      "Method:                           MLE   Df Model:                            1\n",
      "Date:                Fri, 13 Sep 2024   Pseudo R-squ.:                0.003344\n",
      "Time:                        20:22:21   Log-Likelihood:                -1169.7\n",
      "converged:                       True   LL-Null:                       -1173.6\n",
      "Covariance Type:            nonrobust   LLR p-value:                  0.005083\n",
      "==============================================================================\n",
      "                 coef    std err          z      P>|z|      [0.025      0.975]\n",
      "------------------------------------------------------------------------------\n",
      "const         -3.4848      0.079    -44.359      0.000      -3.639      -3.331\n",
      "x1             0.3658      0.128      2.847      0.004       0.114       0.618\n",
      "==============================================================================\n"
     ]
    }
   ],
   "source": [
    "# print summary\n",
    "print(log_result_stud.summary())"
   ]
  },
  {
   "cell_type": "markdown",
   "metadata": {},
   "source": [
    "The model can now be used to predict the probability of default on student status:\n",
    "The input format for the two cases are below\n",
    "- Student - `[1,1]`\n",
    "- Nonstudent - `[1,0]`"
   ]
  },
  {
   "cell_type": "code",
   "execution_count": 327,
   "metadata": {},
   "outputs": [
    {
     "data": {
      "text/plain": [
       "array([0.04233026])"
      ]
     },
     "execution_count": 327,
     "metadata": {},
     "output_type": "execute_result"
    }
   ],
   "source": [
    "# predict probability of default for student\n",
    "log_result_stud.predict([1,1])"
   ]
  },
  {
   "cell_type": "code",
   "execution_count": 328,
   "metadata": {},
   "outputs": [
    {
     "data": {
      "text/plain": [
       "array([0.02974706])"
      ]
     },
     "execution_count": 328,
     "metadata": {},
     "output_type": "execute_result"
    }
   ],
   "source": [
    "# predict probability of default for non-student\n",
    "log_result_stud.predict([1,0])"
   ]
  },
  {
   "cell_type": "markdown",
   "metadata": {},
   "source": [
    "From the results above, the model is stating that students have a higher probability on average than non-students."
   ]
  },
  {
   "cell_type": "markdown",
   "metadata": {},
   "source": [
    "# Multiple Logistic Regression\n",
    "\n",
    "\n",
    "## one vs all?\n",
    "\n",
    "$$log \\left(\\frac{p(X)}{1-p(X)} \\right) = \\beta_{0}+\\beta_{1}X_{1}+...+\\beta_{p}X_{p}$$\n",
    "where:\n",
    "\n",
    "$X=(x_{1},...,X_{p})$ are *p* predictors.\n",
    "\n",
    "$$p(X) = \\frac{\\beta_{0}+\\beta_{1}X_{1}+...+\\beta_{p}X_{p}}{1+\\beta_{0}+\\beta_{1}X_{1}+...+\\beta_{p}X_{p}}$$\n",
    "\n",
    "This section will use all 3 columns - `balance`, `income`, and `student` as predictors.\n"
   ]
  },
  {
   "cell_type": "code",
   "execution_count": 317,
   "metadata": {},
   "outputs": [
    {
     "data": {
      "text/html": [
       "<div>\n",
       "<style scoped>\n",
       "    .dataframe tbody tr th:only-of-type {\n",
       "        vertical-align: middle;\n",
       "    }\n",
       "\n",
       "    .dataframe tbody tr th {\n",
       "        vertical-align: top;\n",
       "    }\n",
       "\n",
       "    .dataframe thead th {\n",
       "        text-align: right;\n",
       "    }\n",
       "</style>\n",
       "<table border=\"1\" class=\"dataframe\">\n",
       "  <thead>\n",
       "    <tr style=\"text-align: right;\">\n",
       "      <th></th>\n",
       "      <th>student</th>\n",
       "      <th>income</th>\n",
       "      <th>balance</th>\n",
       "    </tr>\n",
       "  </thead>\n",
       "  <tbody>\n",
       "    <tr>\n",
       "      <th>8369</th>\n",
       "      <td>No</td>\n",
       "      <td>40637.447983</td>\n",
       "      <td>1491.707545</td>\n",
       "    </tr>\n",
       "    <tr>\n",
       "      <th>9722</th>\n",
       "      <td>Yes</td>\n",
       "      <td>24324.143942</td>\n",
       "      <td>713.559839</td>\n",
       "    </tr>\n",
       "    <tr>\n",
       "      <th>6950</th>\n",
       "      <td>No</td>\n",
       "      <td>31741.431059</td>\n",
       "      <td>676.652720</td>\n",
       "    </tr>\n",
       "    <tr>\n",
       "      <th>1919</th>\n",
       "      <td>No</td>\n",
       "      <td>29842.886050</td>\n",
       "      <td>595.065973</td>\n",
       "    </tr>\n",
       "    <tr>\n",
       "      <th>5713</th>\n",
       "      <td>No</td>\n",
       "      <td>57866.058765</td>\n",
       "      <td>1719.169241</td>\n",
       "    </tr>\n",
       "  </tbody>\n",
       "</table>\n",
       "</div>"
      ],
      "text/plain": [
       "     student        income      balance\n",
       "8369      No  40637.447983  1491.707545\n",
       "9722     Yes  24324.143942   713.559839\n",
       "6950      No  31741.431059   676.652720\n",
       "1919      No  29842.886050   595.065973\n",
       "5713      No  57866.058765  1719.169241"
      ]
     },
     "execution_count": 317,
     "metadata": {},
     "output_type": "execute_result"
    }
   ],
   "source": [
    "# display observations of the predictors\n",
    "X_train.head()\n"
   ]
  },
  {
   "cell_type": "code",
   "execution_count": 318,
   "metadata": {},
   "outputs": [
    {
     "data": {
      "text/html": [
       "<div>\n",
       "<style scoped>\n",
       "    .dataframe tbody tr th:only-of-type {\n",
       "        vertical-align: middle;\n",
       "    }\n",
       "\n",
       "    .dataframe tbody tr th {\n",
       "        vertical-align: top;\n",
       "    }\n",
       "\n",
       "    .dataframe thead th {\n",
       "        text-align: right;\n",
       "    }\n",
       "</style>\n",
       "<table border=\"1\" class=\"dataframe\">\n",
       "  <thead>\n",
       "    <tr style=\"text-align: right;\">\n",
       "      <th></th>\n",
       "      <th>student</th>\n",
       "      <th>income</th>\n",
       "      <th>balance</th>\n",
       "    </tr>\n",
       "  </thead>\n",
       "  <tbody>\n",
       "    <tr>\n",
       "      <th>8369</th>\n",
       "      <td>0</td>\n",
       "      <td>40637.447983</td>\n",
       "      <td>1491.707545</td>\n",
       "    </tr>\n",
       "    <tr>\n",
       "      <th>9722</th>\n",
       "      <td>1</td>\n",
       "      <td>24324.143942</td>\n",
       "      <td>713.559839</td>\n",
       "    </tr>\n",
       "    <tr>\n",
       "      <th>6950</th>\n",
       "      <td>0</td>\n",
       "      <td>31741.431059</td>\n",
       "      <td>676.652720</td>\n",
       "    </tr>\n",
       "    <tr>\n",
       "      <th>1919</th>\n",
       "      <td>0</td>\n",
       "      <td>29842.886050</td>\n",
       "      <td>595.065973</td>\n",
       "    </tr>\n",
       "    <tr>\n",
       "      <th>5713</th>\n",
       "      <td>0</td>\n",
       "      <td>57866.058765</td>\n",
       "      <td>1719.169241</td>\n",
       "    </tr>\n",
       "  </tbody>\n",
       "</table>\n",
       "</div>"
      ],
      "text/plain": [
       "      student        income      balance\n",
       "8369        0  40637.447983  1491.707545\n",
       "9722        1  24324.143942   713.559839\n",
       "6950        0  31741.431059   676.652720\n",
       "1919        0  29842.886050   595.065973\n",
       "5713        0  57866.058765  1719.169241"
      ]
     },
     "execution_count": 318,
     "metadata": {},
     "output_type": "execute_result"
    }
   ],
   "source": [
    "# student needs to be coded into 1 and 0\n",
    "X_train[\"student\"] = np.where(X_train[\"student\"]==\"Yes\",1,0)\n",
    "\n",
    "# show predictor observations\n",
    "X_train.head()"
   ]
  },
  {
   "cell_type": "code",
   "execution_count": 321,
   "metadata": {},
   "outputs": [
    {
     "data": {
      "text/html": [
       "<div>\n",
       "<style scoped>\n",
       "    .dataframe tbody tr th:only-of-type {\n",
       "        vertical-align: middle;\n",
       "    }\n",
       "\n",
       "    .dataframe tbody tr th {\n",
       "        vertical-align: top;\n",
       "    }\n",
       "\n",
       "    .dataframe thead th {\n",
       "        text-align: right;\n",
       "    }\n",
       "</style>\n",
       "<table border=\"1\" class=\"dataframe\">\n",
       "  <thead>\n",
       "    <tr style=\"text-align: right;\">\n",
       "      <th></th>\n",
       "      <th>const</th>\n",
       "      <th>student</th>\n",
       "      <th>income</th>\n",
       "      <th>balance</th>\n",
       "    </tr>\n",
       "  </thead>\n",
       "  <tbody>\n",
       "    <tr>\n",
       "      <th>8369</th>\n",
       "      <td>1.0</td>\n",
       "      <td>0</td>\n",
       "      <td>40637.447983</td>\n",
       "      <td>1491.707545</td>\n",
       "    </tr>\n",
       "    <tr>\n",
       "      <th>9722</th>\n",
       "      <td>1.0</td>\n",
       "      <td>1</td>\n",
       "      <td>24324.143942</td>\n",
       "      <td>713.559839</td>\n",
       "    </tr>\n",
       "    <tr>\n",
       "      <th>6950</th>\n",
       "      <td>1.0</td>\n",
       "      <td>0</td>\n",
       "      <td>31741.431059</td>\n",
       "      <td>676.652720</td>\n",
       "    </tr>\n",
       "    <tr>\n",
       "      <th>1919</th>\n",
       "      <td>1.0</td>\n",
       "      <td>0</td>\n",
       "      <td>29842.886050</td>\n",
       "      <td>595.065973</td>\n",
       "    </tr>\n",
       "    <tr>\n",
       "      <th>5713</th>\n",
       "      <td>1.0</td>\n",
       "      <td>0</td>\n",
       "      <td>57866.058765</td>\n",
       "      <td>1719.169241</td>\n",
       "    </tr>\n",
       "    <tr>\n",
       "      <th>...</th>\n",
       "      <td>...</td>\n",
       "      <td>...</td>\n",
       "      <td>...</td>\n",
       "      <td>...</td>\n",
       "    </tr>\n",
       "    <tr>\n",
       "      <th>350</th>\n",
       "      <td>1.0</td>\n",
       "      <td>1</td>\n",
       "      <td>15092.439308</td>\n",
       "      <td>454.466962</td>\n",
       "    </tr>\n",
       "    <tr>\n",
       "      <th>79</th>\n",
       "      <td>1.0</td>\n",
       "      <td>0</td>\n",
       "      <td>41346.785913</td>\n",
       "      <td>196.456913</td>\n",
       "    </tr>\n",
       "    <tr>\n",
       "      <th>8039</th>\n",
       "      <td>1.0</td>\n",
       "      <td>0</td>\n",
       "      <td>33302.240020</td>\n",
       "      <td>931.591055</td>\n",
       "    </tr>\n",
       "    <tr>\n",
       "      <th>6936</th>\n",
       "      <td>1.0</td>\n",
       "      <td>1</td>\n",
       "      <td>21357.632161</td>\n",
       "      <td>531.976408</td>\n",
       "    </tr>\n",
       "    <tr>\n",
       "      <th>5640</th>\n",
       "      <td>1.0</td>\n",
       "      <td>0</td>\n",
       "      <td>42856.189998</td>\n",
       "      <td>501.391686</td>\n",
       "    </tr>\n",
       "  </tbody>\n",
       "</table>\n",
       "<p>8000 rows × 4 columns</p>\n",
       "</div>"
      ],
      "text/plain": [
       "      const  student        income      balance\n",
       "8369    1.0        0  40637.447983  1491.707545\n",
       "9722    1.0        1  24324.143942   713.559839\n",
       "6950    1.0        0  31741.431059   676.652720\n",
       "1919    1.0        0  29842.886050   595.065973\n",
       "5713    1.0        0  57866.058765  1719.169241\n",
       "...     ...      ...           ...          ...\n",
       "350     1.0        1  15092.439308   454.466962\n",
       "79      1.0        0  41346.785913   196.456913\n",
       "8039    1.0        0  33302.240020   931.591055\n",
       "6936    1.0        1  21357.632161   531.976408\n",
       "5640    1.0        0  42856.189998   501.391686\n",
       "\n",
       "[8000 rows x 4 columns]"
      ]
     },
     "execution_count": 321,
     "metadata": {},
     "output_type": "execute_result"
    }
   ],
   "source": [
    "# add constant\n",
    "X_train_ = sm.add_constant(X_train)\n",
    "X_train_"
   ]
  },
  {
   "cell_type": "code",
   "execution_count": 323,
   "metadata": {},
   "outputs": [
    {
     "name": "stdout",
     "output_type": "stream",
     "text": [
      "Optimization terminated successfully.\n",
      "         Current function value: 0.076678\n",
      "         Iterations 10\n"
     ]
    }
   ],
   "source": [
    "# create logistic model and fit to data\n",
    "model_mul = sm.Logit(y_train, X_train_)\n",
    "log_result_mul = model_mul.fit()"
   ]
  },
  {
   "cell_type": "code",
   "execution_count": 324,
   "metadata": {},
   "outputs": [
    {
     "name": "stdout",
     "output_type": "stream",
     "text": [
      "                           Logit Regression Results                           \n",
      "==============================================================================\n",
      "Dep. Variable:                      y   No. Observations:                 8000\n",
      "Model:                          Logit   Df Residuals:                     7996\n",
      "Method:                           MLE   Df Model:                            3\n",
      "Date:                Fri, 13 Sep 2024   Pseudo R-squ.:                  0.4773\n",
      "Time:                        15:18:05   Log-Likelihood:                -613.42\n",
      "converged:                       True   LL-Null:                       -1173.6\n",
      "Covariance Type:            nonrobust   LLR p-value:                1.335e-242\n",
      "==============================================================================\n",
      "                 coef    std err          z      P>|z|      [0.025      0.975]\n",
      "------------------------------------------------------------------------------\n",
      "const        -11.2791      0.568    -19.841      0.000     -12.393     -10.165\n",
      "student       -0.6883      0.267     -2.576      0.010      -1.212      -0.165\n",
      "income      5.837e-06   9.25e-06      0.631      0.528   -1.23e-05     2.4e-05\n",
      "balance        0.0059      0.000     22.115      0.000       0.005       0.006\n",
      "==============================================================================\n",
      "\n",
      "Possibly complete quasi-separation: A fraction 0.17 of observations can be\n",
      "perfectly predicted. This might indicate that there is complete\n",
      "quasi-separation. In this case some parameters will not be identified.\n"
     ]
    }
   ],
   "source": [
    "# print summary\n",
    "print(log_result_mul.summary())"
   ]
  },
  {
   "cell_type": "markdown",
   "metadata": {},
   "source": [
    "Coefficient for student is **negative** - this means it is responsible for **decrease in probability of default**(students are less likely to default than non-students, when taking into account the other variables). \n",
    "\n",
    "\n",
    "This different from what we saw in the single logistic regression model summary. When no other information is available to the model, a student is more likely to default than non-student. \n",
    "\n",
    "However, a student is less risky than a non-student with the same credit card balance - i.e., when more information is added to the model student is less risky. \n",
    "This effect is known as confounding variables. \n"
   ]
  },
  {
   "cell_type": "markdown",
   "metadata": {},
   "source": [
    "# Multinomial Logistic Regression\n",
    "\n",
    "This is used for scenarios where the response variable has more than two classes. It is possible to extend the logistic regression model to $K >2$ classes.This is called *multinomial logistic regression*. \n",
    "\n",
    "Steps\n",
    "1. Select a single class to serve as baseline - usually the $Kth$ class. Then the model is \n",
    "$$P(Y=k|X=x) = \\frac{e^{\\beta_{k0}+\\beta_{k1}x_{1}+...+\\beta_{kp}x_{p}}}{1 + \\Sigma_{1}^{K-1} e^{\\beta_{l0}+\\beta_{l1}x_{1}+...+\\beta_{lp}x_{p}}}$$\n",
    "\n",
    "reads as:\n",
    "\n",
    "***The probability that the output is class K given this set of predictors is equals to the right fraction.***\n",
    "\n",
    "for $k = 1,..., K-1,$ and\n",
    "$$P(Y=K|X=x) = \\frac{1}{1 +\\Sigma_{1}^{K-1} e^{\\beta_{l0}+\\beta_{l1}x_{1}+...+\\beta_{lp}x_{p}}}$$\n",
    "\n",
    "for $k = 1,..., K-1,$ \n",
    " \n",
    "$$log\\left(\\frac{P(Y=k|X=x)}{(Y=K|X=x)} \\right) = \\beta_{k0}+\\beta_{k1}x_{1}+...+\\beta_{kp}x_{p}$$\n",
    "\n",
    "The log odds relationship for any two pair of classes is linear in the features. \n",
    "The decision of selecting the Kth class as the baseline is unimportant. Why? Although the estimates(coefficients) of the model will differ, the key model outputs such as fitted values (predictions), log odds between any pair of classes, will constant. \n",
    "\n",
    "**Example**\n",
    "When classifying response into categories A, B, and C, suppose that two multinomial logistic regression models are fit, where category A and B are treated as baselines respectively.\n",
    "\n",
    "For model where **category A** is the baseline, \n",
    "$\\beta_{B0}$ can be interpreted as the log odds of category B versus category A given that $x_{1} = ... = x_{p} = 0$. \n",
    "A unit increase in $X_{j}$ is associated with a $\\beta_{stroke,j}$ increase in log odds of **category B** over **category A**. Stated differently, if $X_{j}$ increases by one unit\n",
    "$$\\frac{P(Y=category B| X=x)}{P(Y=category A |X=x)}$$\n",
    "\n",
    "increases by $e^{\\beta_{Bj}}$\n",
    "\n",
    "## Softmax\n",
    "\n",
    "The **softmax** coding is equivalent since the fitted values, log odds between any pairs of classes, and other key outputs do not change, regardless of coding. Softmax treats al K classes symmetrically, and assumes that for $k = 1,...,K$,\n",
    "$$P(Y=k|X=x) = \\frac{1}{1 +\\Sigma_{l=1}^{K} e^{\\beta_{l0}+\\beta_{l1}x_{1}+...+\\beta_{lp}x_{p}}}$$\n",
    "\n",
    "The log odds ratio between the kth and k'th class becomes:\n",
    " \n",
    "$$log\\left(\\frac{P(Y=k|X=x)}{(Y=k'|X=x)} \\right) = (\\beta_{k0} - \\beta_{k'0})+(\\beta_{k1}-\\beta_{k'1})x_{1}+...+(\\beta_{kp}-\\beta_{k'p})x_{p}$$"
   ]
  },
  {
   "cell_type": "markdown",
   "metadata": {},
   "source": []
  }
 ],
 "metadata": {
  "kernelspec": {
   "display_name": "Python 3 (ipykernel)",
   "language": "python",
   "name": "python3"
  },
  "language_info": {
   "codemirror_mode": {
    "name": "ipython",
    "version": 3
   },
   "file_extension": ".py",
   "mimetype": "text/x-python",
   "name": "python",
   "nbconvert_exporter": "python",
   "pygments_lexer": "ipython3",
   "version": "3.11.2"
  }
 },
 "nbformat": 4,
 "nbformat_minor": 4
}
